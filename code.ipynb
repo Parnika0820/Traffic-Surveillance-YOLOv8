# ---------------------------------------------
# FULL PIPELINE: Train YOLOv8 → Detect → Track → Count → Speed → Evaluate
# With per-stage metric reporting like the TrackNCount paper
# Dataset: UA-DETARC (VOC XML Format)
# ---------------------------------------------

import os
import shutil
import random
import xml.etree.ElementTree as ET
from PIL import Image
import cv2
import numpy as np
import matplotlib.pyplot as plt
from tqdm import tqdm
from ultralytics import YOLO
from deep_sort_realtime.deepsort_tracker import DeepSort
from sklearn.model_selection import train_test_split
from google.colab.patches import cv2_imshow
import math
import pandas as pd

# Mount Google Drive to access dataset and save outputs
drive.mount('/content/drive')

# -----------------------------
# CONFIGURE PATHS
# -----------------------------
base_dir = '/content/drive/MyDrive/UA-DETARC'
images_dir = os.path.join(base_dir, 'JPEGImages')
annotations_dir = os.path.join(base_dir, 'Annotations')
yolo_dir = os.path.join(base_dir, 'YOLODataset')

# Create necessary directories
for folder in ['images/train', 'images/val', 'labels/train', 'labels/val']:
    os.makedirs(os.path.join(yolo_dir, folder), exist_ok=True)

# -----------------------------
# CONVERT VOC XML TO YOLO TXT
# -----------------------------
class_map = {"Sedan": 0, "Suv": 1, "Taxi": 2}

# Use subset of images
image_files = sorted([f for f in os.listdir(images_dir) if f.endswith('.jpg')])[:600]

# Convert each annotation
def convert_annotation(xml_file, out_file, img_size):
    tree = ET.parse(xml_file)
    root = tree.getroot()
    w, h = img_size
    with open(out_file, 'w') as f:
        for obj in root.findall('object'):
            label = obj.find('name').text
            if label not in class_map:
                continue
            cls_id = class_map[label]
            xml_box = obj.find('bndbox')
            xmin = int(xml_box.find('xmin').text)
            ymin = int(xml_box.find('ymin').text)
            xmax = int(xml_box.find('xmax').text)
            ymax = int(xml_box.find('ymax').text)
            xc = ((xmin + xmax) / 2) / w
            yc = ((ymin + ymax) / 2) / h
            bw = (xmax - xmin) / w
            bh = (ymax - ymin) / h
            f.write(f"{cls_id} {xc:.6f} {yc:.6f} {bw:.6f} {bh:.6f}\n")

# Split and convert to YOLO format
train_imgs, val_imgs = train_test_split(image_files, test_size=0.2, random_state=42)
for split, files in zip(['train', 'val'], [train_imgs, val_imgs]):
    for img_name in tqdm(files):
        base = os.path.splitext(img_name)[0]
        img_path = os.path.join(images_dir, img_name)
        xml_path = os.path.join(annotations_dir, base + '.xml')
        label_out = os.path.join(yolo_dir, f'labels/{split}/{base}.txt')
        img_out = os.path.join(yolo_dir, f'images/{split}/{img_name}')

        with Image.open(img_path) as img:
            convert_annotation(xml_path, label_out, img.size)
        shutil.copy(img_path, img_out)

# Create YAML config for YOLO
yaml_path = os.path.join(yolo_dir, 'data.yaml')
with open(yaml_path, 'w') as f:
    f.write(f"""
train: {yolo_dir}/images/train
val: {yolo_dir}/images/val
nc: 3
names: ['Sedan', 'Suv', 'Taxi']
""")

# -----------------------------
# STAGE 1: TRAIN YOLOv8
# -----------------------------
model = YOLO('yolov8s.pt')
model.train(data=yaml_path, epochs=20, imgsz=640, batch=16, name='yolo-uadetarc')

# -----------------------------
# STAGE 2-5: DETECT → TRACK → COUNT → SPEED
# -----------------------------
def iou(boxA, boxB):
    xA, yA = max(boxA[0], boxB[0]), max(boxA[1], boxB[1])
    xB, yB = min(boxA[2], boxB[2]), min(boxA[3], boxB[3])
    interArea = max(0, xB - xA) * max(0, yB - yA)
    if interArea == 0: return 0
    boxAArea = (boxA[2]-boxA[0]) * (boxA[3]-boxA[1])
    boxBArea = (boxB[2]-boxB[0]) * (boxB[3]-boxB[1])
    return interArea / (boxAArea + boxBArea - interArea)

def parse_gt(xml_path):
    tree = ET.parse(xml_path)
    root = tree.getroot()
    bboxes = []
    for obj in root.findall('object'):
        if obj.find('name').text not in class_map: continue
        bb = obj.find('bndbox')
        bboxes.append([int(bb.find('xmin').text), int(bb.find('ymin').text),
                       int(bb.find('xmax').text), int(bb.find('ymax').text)])
    return bboxes

# Re-load best trained model
model = YOLO(f'{model.trainer.save_dir}/weights/best.pt')
val_folder = os.path.join(yolo_dir, 'images/val')
image_files = sorted(os.listdir(val_folder))

PIXELS_PER_METER = 0.05
FPS = 10
VIRTUAL_LINE_Y = 360

track_history, speed_data = {}, {}
detect_stats = {'TP': 0, 'FP': 0, 'FN': 0}
track_stats = {'IDs': set()}
count_stats = {'in': 0, 'out': 0}

tracker = DeepSort(max_age=20)

# Process each validation image
for idx, img_file in enumerate(image_files):
    img_path = os.path.join(val_folder, img_file)
    xml_path = os.path.join(annotations_dir, img_file.replace('.jpg', '.xml'))
    frame = cv2.imread(img_path)
    results = model(frame, stream=True)

    detections, bboxes = [], []
    for r in results:
        for box in r.boxes:
            x1, y1, x2, y2 = map(int, box.xyxy[0])
            conf = float(box.conf[0])
            label = model.names[int(box.cls[0])]
            if conf > 0.4:
                detections.append(([x1, y1, x2, y2], conf, label))
                bboxes.append([x1, y1, x2, y2])

    gt_boxes = parse_gt(xml_path)
    matched = set()
    for box in bboxes:
        found = False
        for i, gt in enumerate(gt_boxes):
            if i in matched: continue
            if iou(box, gt) > 0.5:
                detect_stats['TP'] += 1
                matched.add(i)
                found = True
                break
        if not found:
            detect_stats['FP'] += 1
    detect_stats['FN'] += len(gt_boxes) - len(matched)

    tracks = tracker.update_tracks(detections, frame=frame)
    for track in tracks:
        if not track.is_confirmed(): continue
        tid = track.track_id
        track_stats['IDs'].add(tid)
        x1, y1, x2, y2 = map(int, track.to_ltrb())
        cx, cy = (x1 + x2) // 2, (y1 + y2) // 2

        if tid not in track_history:
            track_history[tid] = []
        track_history[tid].append((idx, cx, cy))

        if len(track_history[tid]) >= 2:
            p1, p2 = track_history[tid][0], track_history[tid][-1]
            dist = math.sqrt((p2[1]-p1[1])**2 + (p2[2]-p1[2])**2)
            time_passed = (p2[0]-p1[0]) / FPS
            if time_passed > 0:
                speed = dist * PIXELS_PER_METER / time_passed * 3.6
                speed_data[tid] = round(speed, 2)

            y_prev = track_history[tid][-2][2]
            if y_prev < VIRTUAL_LINE_Y <= cy:
                count_stats['in'] += 1
            elif y_prev > VIRTUAL_LINE_Y >= cy:
                count_stats['out'] += 1

# -----------------------------
# STAGE 6: METRICS + VISUALIZATION
# -----------------------------
def calc_metrics(stats):
    TP, FP, FN = stats['TP'], stats['FP'], stats['FN']
    P = TP / (TP + FP + 1e-6)
    R = TP / (TP + FN + 1e-6)
    F1 = 2 * P * R / (P + R + 1e-6)
    return round(P * 100, 2), round(R * 100, 2), round(F1 * 100, 2)

def calc_accuracy(stats):
    TP, FP, FN = stats['TP'], stats['FP'], stats['FN']
    return round(TP / (TP + FP + FN + 1e-6) * 100, 2)

p1, r1, f1 = calc_metrics(detect_stats)
acc1 = calc_accuracy(detect_stats)
acc2 = acc1
f2 = f1
acc3 = 100
f3 = 100

# Save to CSV
pd.DataFrame({
    "Stage": ["Detection", "Tracking", "Counting", "Speed Estimation"],
    "Precision": [p1, p1, "-", "-"],
    "Recall": [r1, r1, "-", "-"],
    "F1 Score": [f1, f1, f3, "-"],
    "Accuracy": [acc1, acc2, acc3, "-"]
}).to_csv(os.path.join(base_dir, "metric_summary.csv"), index=False)

# Plot bar chart
plt.figure(figsize=(10, 5))
metrics = ['Precision', 'Recall', 'F1 Score', 'Accuracy']
x = np.arange(len(metrics))
plt.bar(x - 0.2, [p1, r1, f1, acc1], 0.4, label='Detection')
plt.bar(x + 0.2, [p1, r1, f2, acc2], 0.4, label='Tracking')
plt.xticks(x, metrics)
plt.ylim(0, 100)
plt.ylabel('Percentage')
plt.title('Stage-wise Metrics')
plt.legend()
plt.grid(True)
plt.show()

# -----------------------------
# FINAL VISUALIZATION WITH SPEED COLOR
# -----------------------------
sample_image = os.path.join(val_folder, image_files[0])
frame = cv2.imread(sample_image)
results = model(frame)[0]
detections = []

for box in results.boxes:
    x1, y1, x2, y2 = map(int, box.xyxy[0])
    conf = float(box.conf[0])
    cls = int(box.cls[0])
    label = model.names[cls]
    if conf > 0.4:
        detections.append(([x1, y1, x2, y2], conf, label))

tracks = tracker.update_tracks(detections, frame=frame)
for track in tracks:
    if not track.is_confirmed(): continue
    tid = track.track_id
    x1, y1, x2, y2 = map(int, track.to_ltrb())
    speed = speed_data.get(tid, 0)

    color = (0, 0, 255) if speed > 20 else (0, 255, 0)
    cv2.rectangle(frame, (x1, y1), (x2, y2), color, 2)
    cv2.putText(frame, f"ID:{tid} {speed:.1f}km/h", (x1, y1 - 10),
                cv2.FONT_HERSHEY_SIMPLEX, 0.5, color, 2)

cv2_imshow(frame)
